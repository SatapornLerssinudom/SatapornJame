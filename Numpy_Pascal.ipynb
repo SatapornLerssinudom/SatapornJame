{
 "cells": [
  {
   "cell_type": "code",
   "execution_count": 1,
   "id": "f909a28b-1134-4930-a9dd-a1055bdecb2c",
   "metadata": {},
   "outputs": [],
   "source": [
    "import numpy as np"
   ]
  },
  {
   "cell_type": "code",
   "execution_count": 2,
   "id": "5809a8ec-939c-42e4-a7fe-52d5e817709e",
   "metadata": {},
   "outputs": [],
   "source": [
    "def pascal_tri(n):       # n = number of rows\n",
    "    pascal = np.zeros((n, n), dtype=int)\n",
    "    pascal[0, 0] = pascal[1, 0] = pascal[1, 1] = 1\n",
    "\n",
    "    for row in range(2, n):\n",
    "        for col in range(0, row+1):\n",
    "            pascal[row, col] = pascal[row-1, col-1] + pascal[row-1, col]\n",
    "    return pascal"
   ]
  },
  {
   "cell_type": "code",
   "execution_count": 3,
   "id": "ffb4b628-3bb6-4e19-b0f3-b50c5f4bfd91",
   "metadata": {},
   "outputs": [],
   "source": [
    "def print_pascal(pascal):\n",
    "    for row in range(0, n):\n",
    "        for i in range(0, n-row):\n",
    "            print(end = \"  \")\n",
    "        for x in pascal[row]:\n",
    "            if x != 0: \n",
    "                print(x, end = \"  \")\n",
    "        print()"
   ]
  },
  {
   "cell_type": "code",
   "execution_count": 4,
   "id": "3cdf7814-63bd-4b93-b6ba-6c9438e39466",
   "metadata": {},
   "outputs": [
    {
     "name": "stdin",
     "output_type": "stream",
     "text": [
      "Insert a number of rows of Pascal's triangle: 10\n"
     ]
    },
    {
     "name": "stdout",
     "output_type": "stream",
     "text": [
      "[[  1   0   0   0   0   0   0   0   0   0]\n",
      " [  1   1   0   0   0   0   0   0   0   0]\n",
      " [  1   2   1   0   0   0   0   0   0   0]\n",
      " [  1   3   3   1   0   0   0   0   0   0]\n",
      " [  1   4   6   4   1   0   0   0   0   0]\n",
      " [  1   5  10  10   5   1   0   0   0   0]\n",
      " [  1   6  15  20  15   6   1   0   0   0]\n",
      " [  1   7  21  35  35  21   7   1   0   0]\n",
      " [  1   8  28  56  70  56  28   8   1   0]\n",
      " [  1   9  36  84 126 126  84  36   9   1]]\n"
     ]
    }
   ],
   "source": [
    "n = int(input(\"Insert a number of rows of Pascal's triangle:\"))\n",
    "tri1 = pascal_tri(n)\n",
    "print(tri1)"
   ]
  },
  {
   "cell_type": "code",
   "execution_count": 5,
   "id": "ddf20f16-3199-4917-9098-bab51de7d260",
   "metadata": {},
   "outputs": [
    {
     "name": "stdout",
     "output_type": "stream",
     "text": [
      "                    1  \n",
      "                  1  1  \n",
      "                1  2  1  \n",
      "              1  3  3  1  \n",
      "            1  4  6  4  1  \n",
      "          1  5  10  10  5  1  \n",
      "        1  6  15  20  15  6  1  \n",
      "      1  7  21  35  35  21  7  1  \n",
      "    1  8  28  56  70  56  28  8  1  \n",
      "  1  9  36  84  126  126  84  36  9  1  \n"
     ]
    }
   ],
   "source": [
    "print_pascal(tri1)"
   ]
  }
 ],
 "metadata": {
  "kernelspec": {
   "display_name": "Python 3",
   "language": "python",
   "name": "python3"
  },
  "language_info": {
   "codemirror_mode": {
    "name": "ipython",
    "version": 3
   },
   "file_extension": ".py",
   "mimetype": "text/x-python",
   "name": "python",
   "nbconvert_exporter": "python",
   "pygments_lexer": "ipython3",
   "version": "3.8.8"
  }
 },
 "nbformat": 4,
 "nbformat_minor": 5
}
