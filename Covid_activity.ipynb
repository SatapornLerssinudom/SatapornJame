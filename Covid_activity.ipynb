{
 "cells": [
  {
   "cell_type": "code",
   "execution_count": 260,
   "id": "b8ad802b-340c-4701-b0a8-cc7462ba68bf",
   "metadata": {},
   "outputs": [],
   "source": [
    "import pandas as pd\n",
    "import matplotlib.pyplot as plt"
   ]
  },
  {
   "cell_type": "code",
   "execution_count": 261,
   "id": "4296abfb-0688-4295-ba7b-929b0880937d",
   "metadata": {},
   "outputs": [],
   "source": [
    "url2 = 'https://covid19.ddc.moph.go.th/api/Cases/round-1to2-by-provinces'\n",
    "url3 = 'https://covid19.ddc.moph.go.th/api/Cases/timeline-cases-by-provinces'"
   ]
  },
  {
   "cell_type": "code",
   "execution_count": 262,
   "id": "f7b1a151-e0c8-46ab-bf58-44cddf1327b2",
   "metadata": {},
   "outputs": [],
   "source": [
    "df2 = pd.read_json('round-1to2-by-provinces.json')"
   ]
  },
  {
   "cell_type": "code",
   "execution_count": 263,
   "id": "3af5b717-8f65-4e47-9195-fe050434c85a",
   "metadata": {},
   "outputs": [],
   "source": [
    "df3 = pd.read_json('timeline-cases-by-provinces.json')"
   ]
  },
  {
   "cell_type": "code",
   "execution_count": 266,
   "id": "fc91251f-4dc2-40b9-8311-5ff7c2568e72",
   "metadata": {},
   "outputs": [
    {
     "data": {
      "text/html": [
       "<div>\n",
       "<style scoped>\n",
       "    .dataframe tbody tr th:only-of-type {\n",
       "        vertical-align: middle;\n",
       "    }\n",
       "\n",
       "    .dataframe tbody tr th {\n",
       "        vertical-align: top;\n",
       "    }\n",
       "\n",
       "    .dataframe thead th {\n",
       "        text-align: right;\n",
       "    }\n",
       "</style>\n",
       "<table border=\"1\" class=\"dataframe\">\n",
       "  <thead>\n",
       "    <tr style=\"text-align: right;\">\n",
       "      <th></th>\n",
       "      <th>txn_date</th>\n",
       "      <th>province</th>\n",
       "      <th>new_case</th>\n",
       "      <th>total_case</th>\n",
       "      <th>update_date</th>\n",
       "    </tr>\n",
       "  </thead>\n",
       "  <tbody>\n",
       "    <tr>\n",
       "      <th>0</th>\n",
       "      <td>2020-01-12</td>\n",
       "      <td>กระบี่</td>\n",
       "      <td>0</td>\n",
       "      <td>0</td>\n",
       "      <td>NaN</td>\n",
       "    </tr>\n",
       "    <tr>\n",
       "      <th>1</th>\n",
       "      <td>2020-01-12</td>\n",
       "      <td>กรุงเทพมหานคร</td>\n",
       "      <td>1</td>\n",
       "      <td>1</td>\n",
       "      <td>NaN</td>\n",
       "    </tr>\n",
       "    <tr>\n",
       "      <th>2</th>\n",
       "      <td>2020-01-12</td>\n",
       "      <td>กาญจนบุรี</td>\n",
       "      <td>0</td>\n",
       "      <td>0</td>\n",
       "      <td>NaN</td>\n",
       "    </tr>\n",
       "    <tr>\n",
       "      <th>3</th>\n",
       "      <td>2020-01-12</td>\n",
       "      <td>กาฬสินธุ์</td>\n",
       "      <td>0</td>\n",
       "      <td>0</td>\n",
       "      <td>NaN</td>\n",
       "    </tr>\n",
       "    <tr>\n",
       "      <th>4</th>\n",
       "      <td>2020-01-12</td>\n",
       "      <td>กำแพงเพชร</td>\n",
       "      <td>0</td>\n",
       "      <td>0</td>\n",
       "      <td>NaN</td>\n",
       "    </tr>\n",
       "    <tr>\n",
       "      <th>...</th>\n",
       "      <td>...</td>\n",
       "      <td>...</td>\n",
       "      <td>...</td>\n",
       "      <td>...</td>\n",
       "      <td>...</td>\n",
       "    </tr>\n",
       "    <tr>\n",
       "      <th>30337</th>\n",
       "      <td>2021-03-31</td>\n",
       "      <td>เพชรบูรณ์</td>\n",
       "      <td>0</td>\n",
       "      <td>4</td>\n",
       "      <td>NaN</td>\n",
       "    </tr>\n",
       "    <tr>\n",
       "      <th>30338</th>\n",
       "      <td>2021-03-31</td>\n",
       "      <td>เลย</td>\n",
       "      <td>0</td>\n",
       "      <td>12</td>\n",
       "      <td>NaN</td>\n",
       "    </tr>\n",
       "    <tr>\n",
       "      <th>30339</th>\n",
       "      <td>2021-03-31</td>\n",
       "      <td>แพร่</td>\n",
       "      <td>0</td>\n",
       "      <td>1</td>\n",
       "      <td>NaN</td>\n",
       "    </tr>\n",
       "    <tr>\n",
       "      <th>30340</th>\n",
       "      <td>2021-03-31</td>\n",
       "      <td>แม่ฮ่องสอน</td>\n",
       "      <td>0</td>\n",
       "      <td>5</td>\n",
       "      <td>NaN</td>\n",
       "    </tr>\n",
       "    <tr>\n",
       "      <th>30341</th>\n",
       "      <td>2021-03-31</td>\n",
       "      <td>ไม่ระบุ</td>\n",
       "      <td>0</td>\n",
       "      <td>12</td>\n",
       "      <td>NaN</td>\n",
       "    </tr>\n",
       "  </tbody>\n",
       "</table>\n",
       "<p>30342 rows × 5 columns</p>\n",
       "</div>"
      ],
      "text/plain": [
       "         txn_date       province  new_case  total_case  update_date\n",
       "0      2020-01-12         กระบี่         0           0          NaN\n",
       "1      2020-01-12  กรุงเทพมหานคร         1           1          NaN\n",
       "2      2020-01-12      กาญจนบุรี         0           0          NaN\n",
       "3      2020-01-12      กาฬสินธุ์         0           0          NaN\n",
       "4      2020-01-12      กำแพงเพชร         0           0          NaN\n",
       "...           ...            ...       ...         ...          ...\n",
       "30337  2021-03-31      เพชรบูรณ์         0           4          NaN\n",
       "30338  2021-03-31            เลย         0          12          NaN\n",
       "30339  2021-03-31           แพร่         0           1          NaN\n",
       "30340  2021-03-31     แม่ฮ่องสอน         0           5          NaN\n",
       "30341  2021-03-31        ไม่ระบุ         0          12          NaN\n",
       "\n",
       "[30342 rows x 5 columns]"
      ]
     },
     "execution_count": 266,
     "metadata": {},
     "output_type": "execute_result"
    }
   ],
   "source": [
    "df2"
   ]
  },
  {
   "cell_type": "code",
   "execution_count": 267,
   "id": "a7ffb4ad-0208-4027-bf3a-2852faa4ea2e",
   "metadata": {},
   "outputs": [
    {
     "data": {
      "text/html": [
       "<div>\n",
       "<style scoped>\n",
       "    .dataframe tbody tr th:only-of-type {\n",
       "        vertical-align: middle;\n",
       "    }\n",
       "\n",
       "    .dataframe tbody tr th {\n",
       "        vertical-align: top;\n",
       "    }\n",
       "\n",
       "    .dataframe thead th {\n",
       "        text-align: right;\n",
       "    }\n",
       "</style>\n",
       "<table border=\"1\" class=\"dataframe\">\n",
       "  <thead>\n",
       "    <tr style=\"text-align: right;\">\n",
       "      <th></th>\n",
       "      <th>txn_date</th>\n",
       "      <th>province</th>\n",
       "      <th>new_case</th>\n",
       "      <th>total_case</th>\n",
       "      <th>update_date</th>\n",
       "    </tr>\n",
       "  </thead>\n",
       "  <tbody>\n",
       "    <tr>\n",
       "      <th>0</th>\n",
       "      <td>2021-04-01</td>\n",
       "      <td>กระบี่</td>\n",
       "      <td>0</td>\n",
       "      <td>27</td>\n",
       "      <td>2021-08-19 07:39:31</td>\n",
       "    </tr>\n",
       "    <tr>\n",
       "      <th>1</th>\n",
       "      <td>2021-04-01</td>\n",
       "      <td>กรุงเทพมหานคร</td>\n",
       "      <td>11</td>\n",
       "      <td>4855</td>\n",
       "      <td>2021-08-19 07:39:31</td>\n",
       "    </tr>\n",
       "    <tr>\n",
       "      <th>2</th>\n",
       "      <td>2021-04-01</td>\n",
       "      <td>กาญจนบุรี</td>\n",
       "      <td>0</td>\n",
       "      <td>16</td>\n",
       "      <td>2021-08-19 07:39:31</td>\n",
       "    </tr>\n",
       "    <tr>\n",
       "      <th>3</th>\n",
       "      <td>2021-04-01</td>\n",
       "      <td>กาฬสินธุ์</td>\n",
       "      <td>0</td>\n",
       "      <td>4</td>\n",
       "      <td>2021-08-19 07:39:31</td>\n",
       "    </tr>\n",
       "    <tr>\n",
       "      <th>4</th>\n",
       "      <td>2021-04-01</td>\n",
       "      <td>กำแพงเพชร</td>\n",
       "      <td>0</td>\n",
       "      <td>2</td>\n",
       "      <td>2021-08-19 07:39:31</td>\n",
       "    </tr>\n",
       "    <tr>\n",
       "      <th>...</th>\n",
       "      <td>...</td>\n",
       "      <td>...</td>\n",
       "      <td>...</td>\n",
       "      <td>...</td>\n",
       "      <td>...</td>\n",
       "    </tr>\n",
       "    <tr>\n",
       "      <th>11071</th>\n",
       "      <td>2021-08-20</td>\n",
       "      <td>เพชรบูรณ์</td>\n",
       "      <td>166</td>\n",
       "      <td>4474</td>\n",
       "      <td>2021-08-20 07:39:03</td>\n",
       "    </tr>\n",
       "    <tr>\n",
       "      <th>11072</th>\n",
       "      <td>2021-08-20</td>\n",
       "      <td>เลย</td>\n",
       "      <td>41</td>\n",
       "      <td>2273</td>\n",
       "      <td>2021-08-20 07:39:03</td>\n",
       "    </tr>\n",
       "    <tr>\n",
       "      <th>11073</th>\n",
       "      <td>2021-08-20</td>\n",
       "      <td>แพร่</td>\n",
       "      <td>31</td>\n",
       "      <td>1229</td>\n",
       "      <td>2021-08-20 07:39:03</td>\n",
       "    </tr>\n",
       "    <tr>\n",
       "      <th>11074</th>\n",
       "      <td>2021-08-20</td>\n",
       "      <td>แม่ฮ่องสอน</td>\n",
       "      <td>1</td>\n",
       "      <td>256</td>\n",
       "      <td>2021-08-20 07:39:03</td>\n",
       "    </tr>\n",
       "    <tr>\n",
       "      <th>11075</th>\n",
       "      <td>2021-08-20</td>\n",
       "      <td>ไม่ระบุ</td>\n",
       "      <td>0</td>\n",
       "      <td>153</td>\n",
       "      <td>2021-08-20 07:39:03</td>\n",
       "    </tr>\n",
       "  </tbody>\n",
       "</table>\n",
       "<p>11076 rows × 5 columns</p>\n",
       "</div>"
      ],
      "text/plain": [
       "         txn_date       province  new_case  total_case          update_date\n",
       "0      2021-04-01         กระบี่         0          27  2021-08-19 07:39:31\n",
       "1      2021-04-01  กรุงเทพมหานคร        11        4855  2021-08-19 07:39:31\n",
       "2      2021-04-01      กาญจนบุรี         0          16  2021-08-19 07:39:31\n",
       "3      2021-04-01      กาฬสินธุ์         0           4  2021-08-19 07:39:31\n",
       "4      2021-04-01      กำแพงเพชร         0           2  2021-08-19 07:39:31\n",
       "...           ...            ...       ...         ...                  ...\n",
       "11071  2021-08-20      เพชรบูรณ์       166        4474  2021-08-20 07:39:03\n",
       "11072  2021-08-20            เลย        41        2273  2021-08-20 07:39:03\n",
       "11073  2021-08-20           แพร่        31        1229  2021-08-20 07:39:03\n",
       "11074  2021-08-20     แม่ฮ่องสอน         1         256  2021-08-20 07:39:03\n",
       "11075  2021-08-20        ไม่ระบุ         0         153  2021-08-20 07:39:03\n",
       "\n",
       "[11076 rows x 5 columns]"
      ]
     },
     "execution_count": 267,
     "metadata": {},
     "output_type": "execute_result"
    }
   ],
   "source": [
    "df3"
   ]
  },
  {
   "cell_type": "code",
   "execution_count": 268,
   "id": "97e106ab-dd4b-4523-a91b-763fc9082acf",
   "metadata": {},
   "outputs": [
    {
     "data": {
      "text/plain": [
       "txn_date       389\n",
       "province       389\n",
       "new_case       389\n",
       "total_case     389\n",
       "update_date      0\n",
       "dtype: int64"
      ]
     },
     "execution_count": 268,
     "metadata": {},
     "output_type": "execute_result"
    }
   ],
   "source": [
    "df2[df2['province']=='กรุงเทพมหานคร'].count()"
   ]
  },
  {
   "cell_type": "code",
   "execution_count": 269,
   "id": "3a7687e0-c2f7-4730-a3b4-3706f23c5afa",
   "metadata": {},
   "outputs": [
    {
     "data": {
      "text/plain": [
       "txn_date       142\n",
       "province       142\n",
       "new_case       142\n",
       "total_case     142\n",
       "update_date    142\n",
       "dtype: int64"
      ]
     },
     "execution_count": 269,
     "metadata": {},
     "output_type": "execute_result"
    }
   ],
   "source": [
    "df3[df3['province']=='กรุงเทพมหานคร'].count()"
   ]
  },
  {
   "cell_type": "code",
   "execution_count": 270,
   "id": "c446d2a3-70d7-4a6c-8d8e-e1a37bdd1fa8",
   "metadata": {},
   "outputs": [],
   "source": [
    "df2_bkk = df2[df2['province']=='กรุงเทพมหานคร']"
   ]
  },
  {
   "cell_type": "code",
   "execution_count": 271,
   "id": "22beea36-56af-4d6d-94d1-78d0acbc4e4b",
   "metadata": {},
   "outputs": [],
   "source": [
    "df3_bkk = df3[df3['province']=='กรุงเทพมหานคร']"
   ]
  },
  {
   "cell_type": "code",
   "execution_count": 272,
   "id": "ebdbb2f7-4d1a-4420-ab0a-66048a3a4082",
   "metadata": {},
   "outputs": [
    {
     "data": {
      "text/html": [
       "<div>\n",
       "<style scoped>\n",
       "    .dataframe tbody tr th:only-of-type {\n",
       "        vertical-align: middle;\n",
       "    }\n",
       "\n",
       "    .dataframe tbody tr th {\n",
       "        vertical-align: top;\n",
       "    }\n",
       "\n",
       "    .dataframe thead th {\n",
       "        text-align: right;\n",
       "    }\n",
       "</style>\n",
       "<table border=\"1\" class=\"dataframe\">\n",
       "  <thead>\n",
       "    <tr style=\"text-align: right;\">\n",
       "      <th></th>\n",
       "      <th>txn_date</th>\n",
       "      <th>province</th>\n",
       "      <th>new_case</th>\n",
       "      <th>total_case</th>\n",
       "      <th>update_date</th>\n",
       "    </tr>\n",
       "  </thead>\n",
       "  <tbody>\n",
       "    <tr>\n",
       "      <th>1</th>\n",
       "      <td>2020-01-12</td>\n",
       "      <td>กรุงเทพมหานคร</td>\n",
       "      <td>1</td>\n",
       "      <td>1</td>\n",
       "      <td>NaN</td>\n",
       "    </tr>\n",
       "    <tr>\n",
       "      <th>79</th>\n",
       "      <td>2020-01-17</td>\n",
       "      <td>กรุงเทพมหานคร</td>\n",
       "      <td>1</td>\n",
       "      <td>2</td>\n",
       "      <td>NaN</td>\n",
       "    </tr>\n",
       "    <tr>\n",
       "      <th>157</th>\n",
       "      <td>2020-01-22</td>\n",
       "      <td>กรุงเทพมหานคร</td>\n",
       "      <td>1</td>\n",
       "      <td>3</td>\n",
       "      <td>NaN</td>\n",
       "    </tr>\n",
       "    <tr>\n",
       "      <th>235</th>\n",
       "      <td>2020-01-24</td>\n",
       "      <td>กรุงเทพมหานคร</td>\n",
       "      <td>0</td>\n",
       "      <td>3</td>\n",
       "      <td>NaN</td>\n",
       "    </tr>\n",
       "    <tr>\n",
       "      <th>313</th>\n",
       "      <td>2020-01-25</td>\n",
       "      <td>กรุงเทพมหานคร</td>\n",
       "      <td>1</td>\n",
       "      <td>4</td>\n",
       "      <td>NaN</td>\n",
       "    </tr>\n",
       "    <tr>\n",
       "      <th>...</th>\n",
       "      <td>...</td>\n",
       "      <td>...</td>\n",
       "      <td>...</td>\n",
       "      <td>...</td>\n",
       "      <td>...</td>\n",
       "    </tr>\n",
       "    <tr>\n",
       "      <th>29953</th>\n",
       "      <td>2021-03-27</td>\n",
       "      <td>กรุงเทพมหานคร</td>\n",
       "      <td>52</td>\n",
       "      <td>4743</td>\n",
       "      <td>NaN</td>\n",
       "    </tr>\n",
       "    <tr>\n",
       "      <th>30031</th>\n",
       "      <td>2021-03-28</td>\n",
       "      <td>กรุงเทพมหานคร</td>\n",
       "      <td>40</td>\n",
       "      <td>4783</td>\n",
       "      <td>NaN</td>\n",
       "    </tr>\n",
       "    <tr>\n",
       "      <th>30109</th>\n",
       "      <td>2021-03-29</td>\n",
       "      <td>กรุงเทพมหานคร</td>\n",
       "      <td>17</td>\n",
       "      <td>4800</td>\n",
       "      <td>NaN</td>\n",
       "    </tr>\n",
       "    <tr>\n",
       "      <th>30187</th>\n",
       "      <td>2021-03-30</td>\n",
       "      <td>กรุงเทพมหานคร</td>\n",
       "      <td>25</td>\n",
       "      <td>4825</td>\n",
       "      <td>NaN</td>\n",
       "    </tr>\n",
       "    <tr>\n",
       "      <th>30265</th>\n",
       "      <td>2021-03-31</td>\n",
       "      <td>กรุงเทพมหานคร</td>\n",
       "      <td>19</td>\n",
       "      <td>4844</td>\n",
       "      <td>NaN</td>\n",
       "    </tr>\n",
       "  </tbody>\n",
       "</table>\n",
       "<p>389 rows × 5 columns</p>\n",
       "</div>"
      ],
      "text/plain": [
       "         txn_date       province  new_case  total_case  update_date\n",
       "1      2020-01-12  กรุงเทพมหานคร         1           1          NaN\n",
       "79     2020-01-17  กรุงเทพมหานคร         1           2          NaN\n",
       "157    2020-01-22  กรุงเทพมหานคร         1           3          NaN\n",
       "235    2020-01-24  กรุงเทพมหานคร         0           3          NaN\n",
       "313    2020-01-25  กรุงเทพมหานคร         1           4          NaN\n",
       "...           ...            ...       ...         ...          ...\n",
       "29953  2021-03-27  กรุงเทพมหานคร        52        4743          NaN\n",
       "30031  2021-03-28  กรุงเทพมหานคร        40        4783          NaN\n",
       "30109  2021-03-29  กรุงเทพมหานคร        17        4800          NaN\n",
       "30187  2021-03-30  กรุงเทพมหานคร        25        4825          NaN\n",
       "30265  2021-03-31  กรุงเทพมหานคร        19        4844          NaN\n",
       "\n",
       "[389 rows x 5 columns]"
      ]
     },
     "execution_count": 272,
     "metadata": {},
     "output_type": "execute_result"
    }
   ],
   "source": [
    "df2_bkk"
   ]
  },
  {
   "cell_type": "code",
   "execution_count": 273,
   "id": "aea85943-f88b-4a08-ab93-dec31c6cec2c",
   "metadata": {},
   "outputs": [
    {
     "data": {
      "text/html": [
       "<div>\n",
       "<style scoped>\n",
       "    .dataframe tbody tr th:only-of-type {\n",
       "        vertical-align: middle;\n",
       "    }\n",
       "\n",
       "    .dataframe tbody tr th {\n",
       "        vertical-align: top;\n",
       "    }\n",
       "\n",
       "    .dataframe thead th {\n",
       "        text-align: right;\n",
       "    }\n",
       "</style>\n",
       "<table border=\"1\" class=\"dataframe\">\n",
       "  <thead>\n",
       "    <tr style=\"text-align: right;\">\n",
       "      <th></th>\n",
       "      <th>txn_date</th>\n",
       "      <th>province</th>\n",
       "      <th>new_case</th>\n",
       "      <th>total_case</th>\n",
       "      <th>update_date</th>\n",
       "    </tr>\n",
       "  </thead>\n",
       "  <tbody>\n",
       "    <tr>\n",
       "      <th>1</th>\n",
       "      <td>2021-04-01</td>\n",
       "      <td>กรุงเทพมหานคร</td>\n",
       "      <td>11</td>\n",
       "      <td>4855</td>\n",
       "      <td>2021-08-19 07:39:31</td>\n",
       "    </tr>\n",
       "    <tr>\n",
       "      <th>79</th>\n",
       "      <td>2021-04-02</td>\n",
       "      <td>กรุงเทพมหานคร</td>\n",
       "      <td>24</td>\n",
       "      <td>4879</td>\n",
       "      <td>2021-08-19 07:39:31</td>\n",
       "    </tr>\n",
       "    <tr>\n",
       "      <th>157</th>\n",
       "      <td>2021-04-03</td>\n",
       "      <td>กรุงเทพมหานคร</td>\n",
       "      <td>41</td>\n",
       "      <td>4920</td>\n",
       "      <td>2021-08-19 07:39:31</td>\n",
       "    </tr>\n",
       "    <tr>\n",
       "      <th>235</th>\n",
       "      <td>2021-04-04</td>\n",
       "      <td>กรุงเทพมหานคร</td>\n",
       "      <td>41</td>\n",
       "      <td>4961</td>\n",
       "      <td>2021-08-19 07:39:31</td>\n",
       "    </tr>\n",
       "    <tr>\n",
       "      <th>313</th>\n",
       "      <td>2021-04-05</td>\n",
       "      <td>กรุงเทพมหานคร</td>\n",
       "      <td>55</td>\n",
       "      <td>5016</td>\n",
       "      <td>2021-08-19 07:39:31</td>\n",
       "    </tr>\n",
       "    <tr>\n",
       "      <th>...</th>\n",
       "      <td>...</td>\n",
       "      <td>...</td>\n",
       "      <td>...</td>\n",
       "      <td>...</td>\n",
       "      <td>...</td>\n",
       "    </tr>\n",
       "    <tr>\n",
       "      <th>10687</th>\n",
       "      <td>2021-08-16</td>\n",
       "      <td>กรุงเทพมหานคร</td>\n",
       "      <td>4337</td>\n",
       "      <td>245126</td>\n",
       "      <td>2021-08-19 07:39:31</td>\n",
       "    </tr>\n",
       "    <tr>\n",
       "      <th>10765</th>\n",
       "      <td>2021-08-17</td>\n",
       "      <td>กรุงเทพมหานคร</td>\n",
       "      <td>4404</td>\n",
       "      <td>249530</td>\n",
       "      <td>2021-08-19 07:39:31</td>\n",
       "    </tr>\n",
       "    <tr>\n",
       "      <th>10843</th>\n",
       "      <td>2021-08-18</td>\n",
       "      <td>กรุงเทพมหานคร</td>\n",
       "      <td>4165</td>\n",
       "      <td>253695</td>\n",
       "      <td>2021-08-19 07:39:31</td>\n",
       "    </tr>\n",
       "    <tr>\n",
       "      <th>10921</th>\n",
       "      <td>2021-08-19</td>\n",
       "      <td>กรุงเทพมหานคร</td>\n",
       "      <td>4410</td>\n",
       "      <td>258105</td>\n",
       "      <td>2021-08-19 07:39:31</td>\n",
       "    </tr>\n",
       "    <tr>\n",
       "      <th>10999</th>\n",
       "      <td>2021-08-20</td>\n",
       "      <td>กรุงเทพมหานคร</td>\n",
       "      <td>4193</td>\n",
       "      <td>262298</td>\n",
       "      <td>2021-08-20 07:39:03</td>\n",
       "    </tr>\n",
       "  </tbody>\n",
       "</table>\n",
       "<p>142 rows × 5 columns</p>\n",
       "</div>"
      ],
      "text/plain": [
       "         txn_date       province  new_case  total_case          update_date\n",
       "1      2021-04-01  กรุงเทพมหานคร        11        4855  2021-08-19 07:39:31\n",
       "79     2021-04-02  กรุงเทพมหานคร        24        4879  2021-08-19 07:39:31\n",
       "157    2021-04-03  กรุงเทพมหานคร        41        4920  2021-08-19 07:39:31\n",
       "235    2021-04-04  กรุงเทพมหานคร        41        4961  2021-08-19 07:39:31\n",
       "313    2021-04-05  กรุงเทพมหานคร        55        5016  2021-08-19 07:39:31\n",
       "...           ...            ...       ...         ...                  ...\n",
       "10687  2021-08-16  กรุงเทพมหานคร      4337      245126  2021-08-19 07:39:31\n",
       "10765  2021-08-17  กรุงเทพมหานคร      4404      249530  2021-08-19 07:39:31\n",
       "10843  2021-08-18  กรุงเทพมหานคร      4165      253695  2021-08-19 07:39:31\n",
       "10921  2021-08-19  กรุงเทพมหานคร      4410      258105  2021-08-19 07:39:31\n",
       "10999  2021-08-20  กรุงเทพมหานคร      4193      262298  2021-08-20 07:39:03\n",
       "\n",
       "[142 rows x 5 columns]"
      ]
     },
     "execution_count": 273,
     "metadata": {},
     "output_type": "execute_result"
    }
   ],
   "source": [
    "df3_bkk"
   ]
  },
  {
   "cell_type": "code",
   "execution_count": 274,
   "id": "023da064-e9e2-4e47-87f8-6b73263845b5",
   "metadata": {},
   "outputs": [],
   "source": [
    "df_bkk = df2_bkk.append(df3_bkk, ignore_index = True)"
   ]
  },
  {
   "cell_type": "code",
   "execution_count": 275,
   "id": "220c3337-f08e-4d8e-9641-a482ba82ecc8",
   "metadata": {},
   "outputs": [
    {
     "data": {
      "text/plain": [
       "531"
      ]
     },
     "execution_count": 275,
     "metadata": {},
     "output_type": "execute_result"
    }
   ],
   "source": [
    "389+142"
   ]
  },
  {
   "cell_type": "code",
   "execution_count": 276,
   "id": "f2d4e91f-8f10-4c50-a5cc-9a514fb3bb70",
   "metadata": {},
   "outputs": [
    {
     "data": {
      "text/html": [
       "<div>\n",
       "<style scoped>\n",
       "    .dataframe tbody tr th:only-of-type {\n",
       "        vertical-align: middle;\n",
       "    }\n",
       "\n",
       "    .dataframe tbody tr th {\n",
       "        vertical-align: top;\n",
       "    }\n",
       "\n",
       "    .dataframe thead th {\n",
       "        text-align: right;\n",
       "    }\n",
       "</style>\n",
       "<table border=\"1\" class=\"dataframe\">\n",
       "  <thead>\n",
       "    <tr style=\"text-align: right;\">\n",
       "      <th></th>\n",
       "      <th>txn_date</th>\n",
       "      <th>province</th>\n",
       "      <th>new_case</th>\n",
       "      <th>total_case</th>\n",
       "      <th>update_date</th>\n",
       "    </tr>\n",
       "  </thead>\n",
       "  <tbody>\n",
       "    <tr>\n",
       "      <th>0</th>\n",
       "      <td>2020-01-12</td>\n",
       "      <td>กรุงเทพมหานคร</td>\n",
       "      <td>1</td>\n",
       "      <td>1</td>\n",
       "      <td>NaN</td>\n",
       "    </tr>\n",
       "    <tr>\n",
       "      <th>1</th>\n",
       "      <td>2020-01-17</td>\n",
       "      <td>กรุงเทพมหานคร</td>\n",
       "      <td>1</td>\n",
       "      <td>2</td>\n",
       "      <td>NaN</td>\n",
       "    </tr>\n",
       "    <tr>\n",
       "      <th>2</th>\n",
       "      <td>2020-01-22</td>\n",
       "      <td>กรุงเทพมหานคร</td>\n",
       "      <td>1</td>\n",
       "      <td>3</td>\n",
       "      <td>NaN</td>\n",
       "    </tr>\n",
       "    <tr>\n",
       "      <th>3</th>\n",
       "      <td>2020-01-24</td>\n",
       "      <td>กรุงเทพมหานคร</td>\n",
       "      <td>0</td>\n",
       "      <td>3</td>\n",
       "      <td>NaN</td>\n",
       "    </tr>\n",
       "    <tr>\n",
       "      <th>4</th>\n",
       "      <td>2020-01-25</td>\n",
       "      <td>กรุงเทพมหานคร</td>\n",
       "      <td>1</td>\n",
       "      <td>4</td>\n",
       "      <td>NaN</td>\n",
       "    </tr>\n",
       "    <tr>\n",
       "      <th>...</th>\n",
       "      <td>...</td>\n",
       "      <td>...</td>\n",
       "      <td>...</td>\n",
       "      <td>...</td>\n",
       "      <td>...</td>\n",
       "    </tr>\n",
       "    <tr>\n",
       "      <th>526</th>\n",
       "      <td>2021-08-16</td>\n",
       "      <td>กรุงเทพมหานคร</td>\n",
       "      <td>4337</td>\n",
       "      <td>245126</td>\n",
       "      <td>2021-08-19 07:39:31</td>\n",
       "    </tr>\n",
       "    <tr>\n",
       "      <th>527</th>\n",
       "      <td>2021-08-17</td>\n",
       "      <td>กรุงเทพมหานคร</td>\n",
       "      <td>4404</td>\n",
       "      <td>249530</td>\n",
       "      <td>2021-08-19 07:39:31</td>\n",
       "    </tr>\n",
       "    <tr>\n",
       "      <th>528</th>\n",
       "      <td>2021-08-18</td>\n",
       "      <td>กรุงเทพมหานคร</td>\n",
       "      <td>4165</td>\n",
       "      <td>253695</td>\n",
       "      <td>2021-08-19 07:39:31</td>\n",
       "    </tr>\n",
       "    <tr>\n",
       "      <th>529</th>\n",
       "      <td>2021-08-19</td>\n",
       "      <td>กรุงเทพมหานคร</td>\n",
       "      <td>4410</td>\n",
       "      <td>258105</td>\n",
       "      <td>2021-08-19 07:39:31</td>\n",
       "    </tr>\n",
       "    <tr>\n",
       "      <th>530</th>\n",
       "      <td>2021-08-20</td>\n",
       "      <td>กรุงเทพมหานคร</td>\n",
       "      <td>4193</td>\n",
       "      <td>262298</td>\n",
       "      <td>2021-08-20 07:39:03</td>\n",
       "    </tr>\n",
       "  </tbody>\n",
       "</table>\n",
       "<p>531 rows × 5 columns</p>\n",
       "</div>"
      ],
      "text/plain": [
       "       txn_date       province  new_case  total_case          update_date\n",
       "0    2020-01-12  กรุงเทพมหานคร         1           1                  NaN\n",
       "1    2020-01-17  กรุงเทพมหานคร         1           2                  NaN\n",
       "2    2020-01-22  กรุงเทพมหานคร         1           3                  NaN\n",
       "3    2020-01-24  กรุงเทพมหานคร         0           3                  NaN\n",
       "4    2020-01-25  กรุงเทพมหานคร         1           4                  NaN\n",
       "..          ...            ...       ...         ...                  ...\n",
       "526  2021-08-16  กรุงเทพมหานคร      4337      245126  2021-08-19 07:39:31\n",
       "527  2021-08-17  กรุงเทพมหานคร      4404      249530  2021-08-19 07:39:31\n",
       "528  2021-08-18  กรุงเทพมหานคร      4165      253695  2021-08-19 07:39:31\n",
       "529  2021-08-19  กรุงเทพมหานคร      4410      258105  2021-08-19 07:39:31\n",
       "530  2021-08-20  กรุงเทพมหานคร      4193      262298  2021-08-20 07:39:03\n",
       "\n",
       "[531 rows x 5 columns]"
      ]
     },
     "execution_count": 276,
     "metadata": {},
     "output_type": "execute_result"
    }
   ],
   "source": [
    "df_bkk"
   ]
  },
  {
   "cell_type": "code",
   "execution_count": 277,
   "id": "b9f5669d-d96a-4ed3-8093-99f8e035f0eb",
   "metadata": {},
   "outputs": [
    {
     "data": {
      "text/plain": [
       "txn_date         0\n",
       "province         0\n",
       "new_case         0\n",
       "total_case       0\n",
       "update_date    389\n",
       "dtype: int64"
      ]
     },
     "execution_count": 277,
     "metadata": {},
     "output_type": "execute_result"
    }
   ],
   "source": [
    "df_bkk.isna().sum()"
   ]
  },
  {
   "cell_type": "code",
   "execution_count": 278,
   "id": "1bce8b44-c3c3-460b-9da3-11080c20f0c7",
   "metadata": {},
   "outputs": [
    {
     "data": {
      "text/html": [
       "<div>\n",
       "<style scoped>\n",
       "    .dataframe tbody tr th:only-of-type {\n",
       "        vertical-align: middle;\n",
       "    }\n",
       "\n",
       "    .dataframe tbody tr th {\n",
       "        vertical-align: top;\n",
       "    }\n",
       "\n",
       "    .dataframe thead th {\n",
       "        text-align: right;\n",
       "    }\n",
       "</style>\n",
       "<table border=\"1\" class=\"dataframe\">\n",
       "  <thead>\n",
       "    <tr style=\"text-align: right;\">\n",
       "      <th></th>\n",
       "      <th>txn_date</th>\n",
       "      <th>province</th>\n",
       "      <th>new_case</th>\n",
       "      <th>total_case</th>\n",
       "    </tr>\n",
       "  </thead>\n",
       "  <tbody>\n",
       "    <tr>\n",
       "      <th>0</th>\n",
       "      <td>2020-01-12</td>\n",
       "      <td>กรุงเทพมหานคร</td>\n",
       "      <td>1</td>\n",
       "      <td>1</td>\n",
       "    </tr>\n",
       "    <tr>\n",
       "      <th>1</th>\n",
       "      <td>2020-01-17</td>\n",
       "      <td>กรุงเทพมหานคร</td>\n",
       "      <td>1</td>\n",
       "      <td>2</td>\n",
       "    </tr>\n",
       "    <tr>\n",
       "      <th>2</th>\n",
       "      <td>2020-01-22</td>\n",
       "      <td>กรุงเทพมหานคร</td>\n",
       "      <td>1</td>\n",
       "      <td>3</td>\n",
       "    </tr>\n",
       "    <tr>\n",
       "      <th>3</th>\n",
       "      <td>2020-01-24</td>\n",
       "      <td>กรุงเทพมหานคร</td>\n",
       "      <td>0</td>\n",
       "      <td>3</td>\n",
       "    </tr>\n",
       "    <tr>\n",
       "      <th>4</th>\n",
       "      <td>2020-01-25</td>\n",
       "      <td>กรุงเทพมหานคร</td>\n",
       "      <td>1</td>\n",
       "      <td>4</td>\n",
       "    </tr>\n",
       "    <tr>\n",
       "      <th>...</th>\n",
       "      <td>...</td>\n",
       "      <td>...</td>\n",
       "      <td>...</td>\n",
       "      <td>...</td>\n",
       "    </tr>\n",
       "    <tr>\n",
       "      <th>526</th>\n",
       "      <td>2021-08-16</td>\n",
       "      <td>กรุงเทพมหานคร</td>\n",
       "      <td>4337</td>\n",
       "      <td>245126</td>\n",
       "    </tr>\n",
       "    <tr>\n",
       "      <th>527</th>\n",
       "      <td>2021-08-17</td>\n",
       "      <td>กรุงเทพมหานคร</td>\n",
       "      <td>4404</td>\n",
       "      <td>249530</td>\n",
       "    </tr>\n",
       "    <tr>\n",
       "      <th>528</th>\n",
       "      <td>2021-08-18</td>\n",
       "      <td>กรุงเทพมหานคร</td>\n",
       "      <td>4165</td>\n",
       "      <td>253695</td>\n",
       "    </tr>\n",
       "    <tr>\n",
       "      <th>529</th>\n",
       "      <td>2021-08-19</td>\n",
       "      <td>กรุงเทพมหานคร</td>\n",
       "      <td>4410</td>\n",
       "      <td>258105</td>\n",
       "    </tr>\n",
       "    <tr>\n",
       "      <th>530</th>\n",
       "      <td>2021-08-20</td>\n",
       "      <td>กรุงเทพมหานคร</td>\n",
       "      <td>4193</td>\n",
       "      <td>262298</td>\n",
       "    </tr>\n",
       "  </tbody>\n",
       "</table>\n",
       "<p>531 rows × 4 columns</p>\n",
       "</div>"
      ],
      "text/plain": [
       "       txn_date       province  new_case  total_case\n",
       "0    2020-01-12  กรุงเทพมหานคร         1           1\n",
       "1    2020-01-17  กรุงเทพมหานคร         1           2\n",
       "2    2020-01-22  กรุงเทพมหานคร         1           3\n",
       "3    2020-01-24  กรุงเทพมหานคร         0           3\n",
       "4    2020-01-25  กรุงเทพมหานคร         1           4\n",
       "..          ...            ...       ...         ...\n",
       "526  2021-08-16  กรุงเทพมหานคร      4337      245126\n",
       "527  2021-08-17  กรุงเทพมหานคร      4404      249530\n",
       "528  2021-08-18  กรุงเทพมหานคร      4165      253695\n",
       "529  2021-08-19  กรุงเทพมหานคร      4410      258105\n",
       "530  2021-08-20  กรุงเทพมหานคร      4193      262298\n",
       "\n",
       "[531 rows x 4 columns]"
      ]
     },
     "execution_count": 278,
     "metadata": {},
     "output_type": "execute_result"
    }
   ],
   "source": [
    "df_bkk.drop(columns='update_date')"
   ]
  },
  {
   "cell_type": "code",
   "execution_count": 279,
   "id": "cc57ded8-521f-4f13-8c9f-971b46dc15a4",
   "metadata": {},
   "outputs": [
    {
     "data": {
      "text/plain": [
       "<AxesSubplot:xlabel='txn_date'>"
      ]
     },
     "execution_count": 279,
     "metadata": {},
     "output_type": "execute_result"
    },
    {
     "data": {
      "image/png": "[encoded data removed]",
      "text/plain": [
       "<Figure size 432x288 with 1 Axes>"
      ]
     },
     "metadata": {
      "needs_background": "light"
     },
     "output_type": "display_data"
    }
   ],
   "source": [
    "df_bkk.plot(x='txn_date',y='new_case')"
   ]
  },
  {
   "cell_type": "code",
   "execution_count": 280,
   "id": "0a539072-e655-48d5-8d09-4efd69cb8811",
   "metadata": {},
   "outputs": [
    {
     "data": {
      "text/plain": [
       "<AxesSubplot:xlabel='txn_date'>"
      ]
     },
     "execution_count": 280,
     "metadata": {},
     "output_type": "execute_result"
    },
    {
     "data": {
      "image/png": "[encoded data removed]",
      "text/plain": [
       "<Figure size 432x288 with 1 Axes>"
      ]
     },
     "metadata": {
      "needs_background": "light"
     },
     "output_type": "display_data"
    }
   ],
   "source": [
    "df_bkk.plot(x='txn_date',y='total_case')"
   ]
  },
  {
   "cell_type": "code",
   "execution_count": 281,
   "id": "1b96703f-fe5e-4efe-8b96-006d3a49b9b9",
   "metadata": {},
   "outputs": [
    {
     "data": {
      "image/png": "[encoded data removed]",
      "text/plain": [
       "<Figure size 432x288 with 1 Axes>"
      ]
     },
     "metadata": {
      "needs_background": "light"
     },
     "output_type": "display_data"
    }
   ],
   "source": [
    "plt.plot('txn_date','total_case',data=df_bkk)\n",
    "plt.ylabel('case')\n",
    "plt.xlabel('date')\n",
    "plt.show()"
   ]
  },
  {
   "cell_type": "code",
   "execution_count": 282,
   "id": "eb847ceb-a74f-4ff7-8ff7-f3d542a61118",
   "metadata": {},
   "outputs": [],
   "source": [
    "df = df2.append(df3, ignore_index = True)"
   ]
  },
  {
   "cell_type": "code",
   "execution_count": 283,
   "id": "4b11663e-42aa-4a87-b55f-122b2e9bbd24",
   "metadata": {},
   "outputs": [],
   "source": [
    "df_thai = df.groupby(['txn_date']).sum()"
   ]
  },
  {
   "cell_type": "code",
   "execution_count": 284,
   "id": "ffca7090-53dd-4eea-960a-46fa265a35bb",
   "metadata": {},
   "outputs": [
    {
     "data": {
      "text/html": [
       "<div>\n",
       "<style scoped>\n",
       "    .dataframe tbody tr th:only-of-type {\n",
       "        vertical-align: middle;\n",
       "    }\n",
       "\n",
       "    .dataframe tbody tr th {\n",
       "        vertical-align: top;\n",
       "    }\n",
       "\n",
       "    .dataframe thead th {\n",
       "        text-align: right;\n",
       "    }\n",
       "</style>\n",
       "<table border=\"1\" class=\"dataframe\">\n",
       "  <thead>\n",
       "    <tr style=\"text-align: right;\">\n",
       "      <th></th>\n",
       "      <th>new_case</th>\n",
       "      <th>total_case</th>\n",
       "    </tr>\n",
       "    <tr>\n",
       "      <th>txn_date</th>\n",
       "      <th></th>\n",
       "      <th></th>\n",
       "    </tr>\n",
       "  </thead>\n",
       "  <tbody>\n",
       "    <tr>\n",
       "      <th>2020-01-12</th>\n",
       "      <td>1</td>\n",
       "      <td>1</td>\n",
       "    </tr>\n",
       "    <tr>\n",
       "      <th>2020-01-17</th>\n",
       "      <td>1</td>\n",
       "      <td>2</td>\n",
       "    </tr>\n",
       "    <tr>\n",
       "      <th>2020-01-22</th>\n",
       "      <td>2</td>\n",
       "      <td>4</td>\n",
       "    </tr>\n",
       "    <tr>\n",
       "      <th>2020-01-24</th>\n",
       "      <td>1</td>\n",
       "      <td>5</td>\n",
       "    </tr>\n",
       "    <tr>\n",
       "      <th>2020-01-25</th>\n",
       "      <td>1</td>\n",
       "      <td>6</td>\n",
       "    </tr>\n",
       "    <tr>\n",
       "      <th>...</th>\n",
       "      <td>...</td>\n",
       "      <td>...</td>\n",
       "    </tr>\n",
       "    <tr>\n",
       "      <th>2021-08-16</th>\n",
       "      <td>21157</td>\n",
       "      <td>928314</td>\n",
       "    </tr>\n",
       "    <tr>\n",
       "      <th>2021-08-17</th>\n",
       "      <td>20128</td>\n",
       "      <td>948442</td>\n",
       "    </tr>\n",
       "    <tr>\n",
       "      <th>2021-08-18</th>\n",
       "      <td>20515</td>\n",
       "      <td>968957</td>\n",
       "    </tr>\n",
       "    <tr>\n",
       "      <th>2021-08-19</th>\n",
       "      <td>20902</td>\n",
       "      <td>989859</td>\n",
       "    </tr>\n",
       "    <tr>\n",
       "      <th>2021-08-20</th>\n",
       "      <td>19851</td>\n",
       "      <td>1009710</td>\n",
       "    </tr>\n",
       "  </tbody>\n",
       "</table>\n",
       "<p>531 rows × 2 columns</p>\n",
       "</div>"
      ],
      "text/plain": [
       "            new_case  total_case\n",
       "txn_date                        \n",
       "2020-01-12         1           1\n",
       "2020-01-17         1           2\n",
       "2020-01-22         2           4\n",
       "2020-01-24         1           5\n",
       "2020-01-25         1           6\n",
       "...              ...         ...\n",
       "2021-08-16     21157      928314\n",
       "2021-08-17     20128      948442\n",
       "2021-08-18     20515      968957\n",
       "2021-08-19     20902      989859\n",
       "2021-08-20     19851     1009710\n",
       "\n",
       "[531 rows x 2 columns]"
      ]
     },
     "execution_count": 284,
     "metadata": {},
     "output_type": "execute_result"
    }
   ],
   "source": [
    "df_thai"
   ]
  },
  {
   "cell_type": "code",
   "execution_count": 285,
   "id": "a426081e-ab74-4bf0-aa16-4a2f7b740435",
   "metadata": {},
   "outputs": [
    {
     "data": {
      "text/html": [
       "<div>\n",
       "<style scoped>\n",
       "    .dataframe tbody tr th:only-of-type {\n",
       "        vertical-align: middle;\n",
       "    }\n",
       "\n",
       "    .dataframe tbody tr th {\n",
       "        vertical-align: top;\n",
       "    }\n",
       "\n",
       "    .dataframe thead th {\n",
       "        text-align: right;\n",
       "    }\n",
       "</style>\n",
       "<table border=\"1\" class=\"dataframe\">\n",
       "  <thead>\n",
       "    <tr style=\"text-align: right;\">\n",
       "      <th></th>\n",
       "      <th>new_case</th>\n",
       "      <th>total_case</th>\n",
       "    </tr>\n",
       "  </thead>\n",
       "  <tbody>\n",
       "    <tr>\n",
       "      <th>count</th>\n",
       "      <td>531.000000</td>\n",
       "      <td>5.310000e+02</td>\n",
       "    </tr>\n",
       "    <tr>\n",
       "      <th>mean</th>\n",
       "      <td>1901.525424</td>\n",
       "      <td>7.935966e+04</td>\n",
       "    </tr>\n",
       "    <tr>\n",
       "      <th>std</th>\n",
       "      <td>4673.566587</td>\n",
       "      <td>1.796635e+05</td>\n",
       "    </tr>\n",
       "    <tr>\n",
       "      <th>min</th>\n",
       "      <td>1.000000</td>\n",
       "      <td>1.000000e+00</td>\n",
       "    </tr>\n",
       "    <tr>\n",
       "      <th>25%</th>\n",
       "      <td>5.000000</td>\n",
       "      <td>3.216500e+03</td>\n",
       "    </tr>\n",
       "    <tr>\n",
       "      <th>50%</th>\n",
       "      <td>39.000000</td>\n",
       "      <td>3.966000e+03</td>\n",
       "    </tr>\n",
       "    <tr>\n",
       "      <th>75%</th>\n",
       "      <td>944.500000</td>\n",
       "      <td>3.126350e+04</td>\n",
       "    </tr>\n",
       "    <tr>\n",
       "      <th>max</th>\n",
       "      <td>23418.000000</td>\n",
       "      <td>1.009710e+06</td>\n",
       "    </tr>\n",
       "  </tbody>\n",
       "</table>\n",
       "</div>"
      ],
      "text/plain": [
       "           new_case    total_case\n",
       "count    531.000000  5.310000e+02\n",
       "mean    1901.525424  7.935966e+04\n",
       "std     4673.566587  1.796635e+05\n",
       "min        1.000000  1.000000e+00\n",
       "25%        5.000000  3.216500e+03\n",
       "50%       39.000000  3.966000e+03\n",
       "75%      944.500000  3.126350e+04\n",
       "max    23418.000000  1.009710e+06"
      ]
     },
     "execution_count": 285,
     "metadata": {},
     "output_type": "execute_result"
    }
   ],
   "source": [
    "df_thai.describe()"
   ]
  },
  {
   "cell_type": "code",
   "execution_count": 286,
   "id": "fc9fcc98-7087-428b-b1a3-ec23b59ed06c",
   "metadata": {},
   "outputs": [
    {
     "data": {
      "text/plain": [
       "<AxesSubplot:xlabel='txn_date'>"
      ]
     },
     "execution_count": 286,
     "metadata": {},
     "output_type": "execute_result"
    },
    {
     "data": {
      "image/png": "[encoded data removed]",
      "text/plain": [
       "<Figure size 432x288 with 1 Axes>"
      ]
     },
     "metadata": {
      "needs_background": "light"
     },
     "output_type": "display_data"
    }
   ],
   "source": [
    "df_thai['new_case'].plot()"
   ]
  },
  {
   "cell_type": "code",
   "execution_count": 287,
   "id": "7bcff061-1b93-42dd-8872-40e7f76c65fb",
   "metadata": {},
   "outputs": [
    {
     "data": {
      "text/plain": [
       "<AxesSubplot:xlabel='txn_date'>"
      ]
     },
     "execution_count": 287,
     "metadata": {},
     "output_type": "execute_result"
    },
    {
     "data": {
      "image/png": "[encoded data removed]",
      "text/plain": [
       "<Figure size 432x288 with 1 Axes>"
      ]
     },
     "metadata": {
      "needs_background": "light"
     },
     "output_type": "display_data"
    }
   ],
   "source": [
    "df_thai['total_case'].plot()"
   ]
  },
  {
   "cell_type": "code",
   "execution_count": 288,
   "id": "2f969027-a3e8-48e3-95ad-09efd52f4037",
   "metadata": {},
   "outputs": [
    {
     "data": {
      "text/html": [
       "<div>\n",
       "<style scoped>\n",
       "    .dataframe tbody tr th:only-of-type {\n",
       "        vertical-align: middle;\n",
       "    }\n",
       "\n",
       "    .dataframe tbody tr th {\n",
       "        vertical-align: top;\n",
       "    }\n",
       "\n",
       "    .dataframe thead th {\n",
       "        text-align: right;\n",
       "    }\n",
       "</style>\n",
       "<table border=\"1\" class=\"dataframe\">\n",
       "  <thead>\n",
       "    <tr style=\"text-align: right;\">\n",
       "      <th></th>\n",
       "      <th>txn_date</th>\n",
       "      <th>province</th>\n",
       "      <th>new_case</th>\n",
       "      <th>total_case</th>\n",
       "      <th>update_date</th>\n",
       "    </tr>\n",
       "  </thead>\n",
       "  <tbody>\n",
       "    <tr>\n",
       "      <th>30421</th>\n",
       "      <td>2021-04-02</td>\n",
       "      <td>กรุงเทพมหานคร</td>\n",
       "      <td>24</td>\n",
       "      <td>4879</td>\n",
       "      <td>2021-08-19 07:39:31</td>\n",
       "    </tr>\n",
       "    <tr>\n",
       "      <th>30499</th>\n",
       "      <td>2021-04-03</td>\n",
       "      <td>กรุงเทพมหานคร</td>\n",
       "      <td>41</td>\n",
       "      <td>4920</td>\n",
       "      <td>2021-08-19 07:39:31</td>\n",
       "    </tr>\n",
       "    <tr>\n",
       "      <th>30577</th>\n",
       "      <td>2021-04-04</td>\n",
       "      <td>กรุงเทพมหานคร</td>\n",
       "      <td>41</td>\n",
       "      <td>4961</td>\n",
       "      <td>2021-08-19 07:39:31</td>\n",
       "    </tr>\n",
       "    <tr>\n",
       "      <th>30655</th>\n",
       "      <td>2021-04-05</td>\n",
       "      <td>กรุงเทพมหานคร</td>\n",
       "      <td>55</td>\n",
       "      <td>5016</td>\n",
       "      <td>2021-08-19 07:39:31</td>\n",
       "    </tr>\n",
       "    <tr>\n",
       "      <th>30733</th>\n",
       "      <td>2021-04-06</td>\n",
       "      <td>กรุงเทพมหานคร</td>\n",
       "      <td>157</td>\n",
       "      <td>5173</td>\n",
       "      <td>2021-08-19 07:39:31</td>\n",
       "    </tr>\n",
       "    <tr>\n",
       "      <th>...</th>\n",
       "      <td>...</td>\n",
       "      <td>...</td>\n",
       "      <td>...</td>\n",
       "      <td>...</td>\n",
       "      <td>...</td>\n",
       "    </tr>\n",
       "    <tr>\n",
       "      <th>41029</th>\n",
       "      <td>2021-08-16</td>\n",
       "      <td>กรุงเทพมหานคร</td>\n",
       "      <td>4337</td>\n",
       "      <td>245126</td>\n",
       "      <td>2021-08-19 07:39:31</td>\n",
       "    </tr>\n",
       "    <tr>\n",
       "      <th>41107</th>\n",
       "      <td>2021-08-17</td>\n",
       "      <td>กรุงเทพมหานคร</td>\n",
       "      <td>4404</td>\n",
       "      <td>249530</td>\n",
       "      <td>2021-08-19 07:39:31</td>\n",
       "    </tr>\n",
       "    <tr>\n",
       "      <th>41185</th>\n",
       "      <td>2021-08-18</td>\n",
       "      <td>กรุงเทพมหานคร</td>\n",
       "      <td>4165</td>\n",
       "      <td>253695</td>\n",
       "      <td>2021-08-19 07:39:31</td>\n",
       "    </tr>\n",
       "    <tr>\n",
       "      <th>41263</th>\n",
       "      <td>2021-08-19</td>\n",
       "      <td>กรุงเทพมหานคร</td>\n",
       "      <td>4410</td>\n",
       "      <td>258105</td>\n",
       "      <td>2021-08-19 07:39:31</td>\n",
       "    </tr>\n",
       "    <tr>\n",
       "      <th>41341</th>\n",
       "      <td>2021-08-20</td>\n",
       "      <td>กรุงเทพมหานคร</td>\n",
       "      <td>4193</td>\n",
       "      <td>262298</td>\n",
       "      <td>2021-08-20 07:39:03</td>\n",
       "    </tr>\n",
       "  </tbody>\n",
       "</table>\n",
       "<p>141 rows × 5 columns</p>\n",
       "</div>"
      ],
      "text/plain": [
       "         txn_date       province  new_case  total_case          update_date\n",
       "30421  2021-04-02  กรุงเทพมหานคร        24        4879  2021-08-19 07:39:31\n",
       "30499  2021-04-03  กรุงเทพมหานคร        41        4920  2021-08-19 07:39:31\n",
       "30577  2021-04-04  กรุงเทพมหานคร        41        4961  2021-08-19 07:39:31\n",
       "30655  2021-04-05  กรุงเทพมหานคร        55        5016  2021-08-19 07:39:31\n",
       "30733  2021-04-06  กรุงเทพมหานคร       157        5173  2021-08-19 07:39:31\n",
       "...           ...            ...       ...         ...                  ...\n",
       "41029  2021-08-16  กรุงเทพมหานคร      4337      245126  2021-08-19 07:39:31\n",
       "41107  2021-08-17  กรุงเทพมหานคร      4404      249530  2021-08-19 07:39:31\n",
       "41185  2021-08-18  กรุงเทพมหานคร      4165      253695  2021-08-19 07:39:31\n",
       "41263  2021-08-19  กรุงเทพมหานคร      4410      258105  2021-08-19 07:39:31\n",
       "41341  2021-08-20  กรุงเทพมหานคร      4193      262298  2021-08-20 07:39:03\n",
       "\n",
       "[141 rows x 5 columns]"
      ]
     },
     "execution_count": 288,
     "metadata": {},
     "output_type": "execute_result"
    }
   ],
   "source": [
    "province = 'กรุงเทพมหานคร'\n",
    "begin_date = '2021-04-01'\n",
    "df_pro = df[(df.province==province)&(df.txn_date>begin_date)]\n",
    "df_pro"
   ]
  },
  {
   "cell_type": "code",
   "execution_count": 289,
   "id": "92bdfef5-8c0f-4685-a1e9-aa562cfa5ec1",
   "metadata": {},
   "outputs": [
    {
     "data": {
      "text/plain": [
       "<AxesSubplot:title={'center':'Daily Cases in Thailand from 2021-April'}, xlabel='Date', ylabel='New Case'>"
      ]
     },
     "execution_count": 289,
     "metadata": {},
     "output_type": "execute_result"
    },
    {
     "data": {
      "image/png": "[encoded data removed]",
      "text/plain": [
       "<Figure size 720x288 with 1 Axes>"
      ]
     },
     "metadata": {
      "needs_background": "light"
     },
     "output_type": "display_data"
    }
   ],
   "source": [
    "df_pro.plot(x='txn_date',y='new_case', figsize = (10,4), xlabel=\"Date\", ylabel=\"New Case\", title=\"Daily Cases in Thailand from 2021-April\")"
   ]
  },
  {
   "cell_type": "code",
   "execution_count": 290,
   "id": "c215c43b-9d7f-43fc-b470-8e27d5962291",
   "metadata": {},
   "outputs": [
    {
     "data": {
      "text/plain": [
       "<AxesSubplot:title={'center':'Total Cases in Thailand from 2021-April'}, xlabel='Date', ylabel='New Case'>"
      ]
     },
     "execution_count": 290,
     "metadata": {},
     "output_type": "execute_result"
    },
    {
     "data": {
      "image/png": "[encoded data removed]",
      "text/plain": [
       "<Figure size 720x288 with 1 Axes>"
      ]
     },
     "metadata": {
      "needs_background": "light"
     },
     "output_type": "display_data"
    }
   ],
   "source": [
    "df_pro.plot(x='txn_date',y='total_case', figsize = (10,4), xlabel=\"Date\", ylabel=\"New Case\", title=\"Total Cases in Thailand from 2021-April\")"
   ]
  },
  {
   "cell_type": "code",
   "execution_count": 291,
   "id": "cc5aac38-847d-4fa9-9bdf-d2cd06509609",
   "metadata": {},
   "outputs": [
    {
     "data": {
      "image/png": "[encoded data removed]",
      "text/plain": [
       "<Figure size 720x288 with 1 Axes>"
      ]
     },
     "metadata": {
      "needs_background": "light"
     },
     "output_type": "display_data"
    },
    {
     "data": {
      "image/png": "[encoded data removed]",
      "text/plain": [
       "<Figure size 720x288 with 1 Axes>"
      ]
     },
     "metadata": {
      "needs_background": "light"
     },
     "output_type": "display_data"
    }
   ],
   "source": [
    "x = df_pro['txn_date']\n",
    "y1 = df_pro['new_case']\n",
    "y2 = df_pro['total_case']\n",
    "\n",
    "plt.subplots(figsize=(10, 4))\n",
    "plt.plot(x, y1)\n",
    "plt.title('new_case')\n",
    "\n",
    "plt.subplots(figsize=(10, 4))\n",
    "plt.plot(x, y2)\n",
    "plt.title('total_case')\n",
    "plt.show()"
   ]
  }
 ],
 "metadata": {
  "kernelspec": {
   "display_name": "Python 3",
   "language": "python",
   "name": "python3"
  },
  "language_info": {
   "codemirror_mode": {
    "name": "ipython",
    "version": 3
   },
   "file_extension": ".py",
   "mimetype": "text/x-python",
   "name": "python",
   "nbconvert_exporter": "python",
   "pygments_lexer": "ipython3",
   "version": "3.8.8"
  }
 },
 "nbformat": 4,
 "nbformat_minor": 5
}
