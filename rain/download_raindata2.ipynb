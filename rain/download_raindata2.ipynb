{
 "cells": [
  {
   "cell_type": "code",
   "execution_count": 1,
   "metadata": {},
   "outputs": [],
   "source": [
    "from selenium import webdriver\n",
    "from selenium.webdriver.common.keys import Keys"
   ]
  },
  {
   "cell_type": "code",
   "execution_count": 2,
   "metadata": {},
   "outputs": [
    {
     "name": "stderr",
     "output_type": "stream",
     "text": [
      "C:\\Users\\Jame\\AppData\\Local\\Temp\\ipykernel_15220\\2960092629.py:6: DeprecationWarning: executable_path has been deprecated, please pass in a Service object\n",
      "  driver = webdriver.Chrome(executable_path='chromedriver102', chrome_options=chromeOptions)\n",
      "C:\\Users\\Jame\\AppData\\Local\\Temp\\ipykernel_15220\\2960092629.py:6: DeprecationWarning: use options instead of chrome_options\n",
      "  driver = webdriver.Chrome(executable_path='chromedriver102', chrome_options=chromeOptions)\n"
     ]
    }
   ],
   "source": [
    "# run driver\n",
    "\n",
    "chromeOptions = webdriver.ChromeOptions()\n",
    "prefs = {\"download.default_directory\" : \"C:\\\\Users\\\\Jame\\\\Desktop\\\\Coop\\\\My Coop\\\\Python\\\\rain_raw\"}\n",
    "chromeOptions.add_experimental_option(\"prefs\",prefs)\n",
    "driver = webdriver.Chrome(executable_path='chromedriver102', chrome_options=chromeOptions)"
   ]
  },
  {
   "cell_type": "code",
   "execution_count": 3,
   "metadata": {},
   "outputs": [],
   "source": [
    "# go to site\n",
    "\n",
    "site = 'https://weather.bangkok.go.th/rain/RainHistory'\n",
    "driver.get(site)"
   ]
  },
  {
   "cell_type": "code",
   "execution_count": 4,
   "metadata": {},
   "outputs": [],
   "source": [
    "# select station\n",
    "def next_station():\n",
    "    listbox = driver.find_element_by_tag_name('form').find_element_by_class_name('select2-selection__arrow')\n",
    "    listbox.click()\n",
    "\n",
    "    selec = driver.find_element_by_tag_name('form').find_element_by_class_name('select2-selection')\n",
    "    selec.send_keys(Keys.ARROW_DOWN)\n",
    "    selec.send_keys(Keys.ENTER)"
   ]
  },
  {
   "cell_type": "code",
   "execution_count": 5,
   "metadata": {},
   "outputs": [],
   "source": [
    "# select date\n",
    "def next_date(dd,mm,yyyy):\n",
    "    date1 = str(dd)+'/'+str(mm)+'/'+str(yyyy)\n",
    "    date2 = str(dd+2)+'/'+str(mm)+'/'+str(yyyy)\n",
    "\n",
    "    sdate = driver.find_element_by_id('datePick_start')\n",
    "    sdate.clear()\n",
    "    sdate.send_keys(date1)\n",
    "\n",
    "    edate = driver.find_element_by_id('datePick_end')\n",
    "    edate.clear()\n",
    "    edate.send_keys(date2)"
   ]
  },
  {
   "cell_type": "code",
   "execution_count": 6,
   "metadata": {},
   "outputs": [
    {
     "name": "stderr",
     "output_type": "stream",
     "text": [
      "C:\\Users\\Jame\\AppData\\Local\\Temp\\ipykernel_15220\\436400837.py:3: DeprecationWarning: find_element_by_* commands are deprecated. Please use find_element() instead\n",
      "  stime = driver.find_element_by_id('StationTime_start')\n",
      "C:\\Users\\Jame\\AppData\\Local\\Temp\\ipykernel_15220\\436400837.py:6: DeprecationWarning: find_element_by_* commands are deprecated. Please use find_element() instead\n",
      "  etime = driver.find_element_by_id('StationTime_end')\n"
     ]
    }
   ],
   "source": [
    "# set filter\n",
    "\n",
    "stime = driver.find_element_by_id('StationTime_start')\n",
    "stime.clear()\n",
    "stime.send_keys('00:00')\n",
    "etime = driver.find_element_by_id('StationTime_end')\n",
    "etime.clear()\n",
    "etime.send_keys('23:55')"
   ]
  },
  {
   "cell_type": "code",
   "execution_count": 7,
   "metadata": {},
   "outputs": [
    {
     "name": "stderr",
     "output_type": "stream",
     "text": [
      "C:\\Users\\Jame\\AppData\\Local\\Temp\\ipykernel_15220\\4091852634.py:3: DeprecationWarning: find_element_by_tag_name is deprecated. Please use find_element(by=By.TAG_NAME, value=name) instead\n",
      "  listbox = driver.find_element_by_tag_name('form').find_element_by_class_name('select2-selection__arrow')\n",
      "C:\\Users\\Jame\\AppData\\Local\\Temp\\ipykernel_15220\\4091852634.py:3: DeprecationWarning: find_element_by_class_name is deprecated. Please use find_element(by=By.CLASS_NAME, value=name) instead\n",
      "  listbox = driver.find_element_by_tag_name('form').find_element_by_class_name('select2-selection__arrow')\n",
      "C:\\Users\\Jame\\AppData\\Local\\Temp\\ipykernel_15220\\4091852634.py:6: DeprecationWarning: find_element_by_tag_name is deprecated. Please use find_element(by=By.TAG_NAME, value=name) instead\n",
      "  selec = driver.find_element_by_tag_name('form').find_element_by_class_name('select2-selection')\n",
      "C:\\Users\\Jame\\AppData\\Local\\Temp\\ipykernel_15220\\4091852634.py:6: DeprecationWarning: find_element_by_class_name is deprecated. Please use find_element(by=By.CLASS_NAME, value=name) instead\n",
      "  selec = driver.find_element_by_tag_name('form').find_element_by_class_name('select2-selection')\n"
     ]
    }
   ],
   "source": [
    "#skip first 32 stations\n",
    "\n",
    "for i in range(0,32):\n",
    "    next_station()"
   ]
  },
  {
   "cell_type": "code",
   "execution_count": 8,
   "metadata": {},
   "outputs": [
    {
     "name": "stderr",
     "output_type": "stream",
     "text": [
      "C:\\Users\\Jame\\AppData\\Local\\Temp\\ipykernel_15220\\4091852634.py:3: DeprecationWarning: find_element_by_tag_name is deprecated. Please use find_element(by=By.TAG_NAME, value=name) instead\n",
      "  listbox = driver.find_element_by_tag_name('form').find_element_by_class_name('select2-selection__arrow')\n",
      "C:\\Users\\Jame\\AppData\\Local\\Temp\\ipykernel_15220\\4091852634.py:3: DeprecationWarning: find_element_by_class_name is deprecated. Please use find_element(by=By.CLASS_NAME, value=name) instead\n",
      "  listbox = driver.find_element_by_tag_name('form').find_element_by_class_name('select2-selection__arrow')\n",
      "C:\\Users\\Jame\\AppData\\Local\\Temp\\ipykernel_15220\\4091852634.py:6: DeprecationWarning: find_element_by_tag_name is deprecated. Please use find_element(by=By.TAG_NAME, value=name) instead\n",
      "  selec = driver.find_element_by_tag_name('form').find_element_by_class_name('select2-selection')\n",
      "C:\\Users\\Jame\\AppData\\Local\\Temp\\ipykernel_15220\\4091852634.py:6: DeprecationWarning: find_element_by_class_name is deprecated. Please use find_element(by=By.CLASS_NAME, value=name) instead\n",
      "  selec = driver.find_element_by_tag_name('form').find_element_by_class_name('select2-selection')\n",
      "C:\\Users\\Jame\\AppData\\Local\\Temp\\ipykernel_15220\\2148801326.py:6: DeprecationWarning: find_element_by_* commands are deprecated. Please use find_element() instead\n",
      "  sdate = driver.find_element_by_id('datePick_start')\n",
      "C:\\Users\\Jame\\AppData\\Local\\Temp\\ipykernel_15220\\2148801326.py:10: DeprecationWarning: find_element_by_* commands are deprecated. Please use find_element() instead\n",
      "  edate = driver.find_element_by_id('datePick_end')\n",
      "C:\\Users\\Jame\\AppData\\Local\\Temp\\ipykernel_15220\\384860894.py:15: DeprecationWarning: find_element_by_class_name is deprecated. Please use find_element(by=By.CLASS_NAME, value=name) instead\n",
      "  driver.find_element_by_class_name('col-lg-2').find_element_by_tag_name('input').click()\n",
      "C:\\Users\\Jame\\AppData\\Local\\Temp\\ipykernel_15220\\384860894.py:15: DeprecationWarning: find_element_by_tag_name is deprecated. Please use find_element(by=By.TAG_NAME, value=name) instead\n",
      "  driver.find_element_by_class_name('col-lg-2').find_element_by_tag_name('input').click()\n",
      "C:\\Users\\Jame\\AppData\\Local\\Temp\\ipykernel_15220\\384860894.py:17: DeprecationWarning: find_element_by_* commands are deprecated. Please use find_element() instead\n",
      "  driver.find_element_by_id('DataTables_Table_0_wrapper').find_element_by_class_name('buttons-csv').click()\n",
      "C:\\Users\\Jame\\AppData\\Local\\Temp\\ipykernel_15220\\384860894.py:17: DeprecationWarning: find_element_by_class_name is deprecated. Please use find_element(by=By.CLASS_NAME, value=name) instead\n",
      "  driver.find_element_by_id('DataTables_Table_0_wrapper').find_element_by_class_name('buttons-csv').click()\n"
     ]
    }
   ],
   "source": [
    "# driver no. 2\n",
    "# download CSV\n",
    "# 32 stations of 128\n",
    "# year 2021\n",
    "# start from บางกอกน้อย บางกอกน้อย\n",
    "\n",
    "for i in range(0,32):\n",
    "    driver.execute_script(\"window.scrollTo(0,0,document.body.scrollHeight)\")\n",
    "    next_station()\n",
    "    \n",
    "    day = 1\n",
    "    while day < 365:\n",
    "        next_date(day,1,2021)\n",
    "        day+=2\n",
    "        \n",
    "        driver.find_element_by_class_name('col-lg-2').find_element_by_tag_name('input').click()\n",
    "        driver.execute_script(\"window.scrollBy(0,500,document.body.scrollHeight)\")\n",
    "        driver.find_element_by_id('DataTables_Table_0_wrapper').find_element_by_class_name('buttons-csv').click()"
   ]
  }
 ],
 "metadata": {
  "interpreter": {
   "hash": "cd5cff52ff11aad622b086c57bb6303223215b4c0cac48da0566989545083643"
  },
  "kernelspec": {
   "display_name": "Python 3.9.10 64-bit (windows store)",
   "language": "python",
   "name": "python3"
  },
  "language_info": {
   "codemirror_mode": {
    "name": "ipython",
    "version": 3
   },
   "file_extension": ".py",
   "mimetype": "text/x-python",
   "name": "python",
   "nbconvert_exporter": "python",
   "pygments_lexer": "ipython3",
   "version": "3.9.13"
  },
  "orig_nbformat": 4
 },
 "nbformat": 4,
 "nbformat_minor": 2
}
